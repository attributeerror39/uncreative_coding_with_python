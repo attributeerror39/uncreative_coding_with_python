{
 "cells": [
  {
   "cell_type": "markdown",
   "metadata": {},
   "source": [
    "# Read a text file, iterate over a list\n",
    "\n",
    "In this chapter, we'll use written words as page numbers.\n",
    "\n",
    "First we'll get a [list of written words](https://word-lists.com/word-lists/numbers-1-to-1000-written-as-words/) and store them in the file `wordlist.txt` inside the folder `data`."
   ]
  },
  {
   "cell_type": "code",
   "execution_count": null,
   "metadata": {},
   "outputs": [],
   "source": [
    "from fpdf import FPDF\n",
    "\n",
    "pdf = FPDF(format=(115, 180))\n",
    "pdf.set_font('Helvetica')\n",
    "\n",
    "# Read the content of a textfile into the variable wordlist\n",
    "with open('data/wordlist.txt', 'r') as f:\n",
    "    wordlist = f.readlines()\n",
    "\n",
    "# Iterate over all items of the list called wordlist\n",
    "for word in wordlist:\n",
    "\n",
    "    pdf.add_page()\n",
    "    pdf.set_y(-24)\n",
    "    pdf.set_font_size(10)\n",
    "\n",
    "    # for each iteration, the next item of the list is \n",
    "    # stored in the variable called word\n",
    "    pdf.cell(w=0, text=word, align='R')\n",
    "    \n",
    "pdf.output(\"hello_world.pdf\")"
   ]
  },
  {
   "cell_type": "markdown",
   "metadata": {},
   "source": [
    "![wordlist.gif](img/fpdf_007.gif)"
   ]
  },
  {
   "cell_type": "markdown",
   "metadata": {},
   "source": [
    "## Read a text file (detail)"
   ]
  },
  {
   "cell_type": "code",
   "execution_count": null,
   "metadata": {},
   "outputs": [
    {
     "name": "stdout",
     "output_type": "stream",
     "text": [
      "Iterate and count,\n",
      "Loop through tasks with steady play,\n",
      "End when done repeating.\n"
     ]
    }
   ],
   "source": [
    "# Open a text file in reading mode ('r'):\n",
    "with open('data/for_loop_haiku.txt', 'r') as f:  # f is a variable and holds the file object\n",
    "\n",
    "    # Read the text file into a new variable called txt:\n",
    "    txt = f.read()\n",
    "\n",
    "# Now the data is available:\n",
    "print(txt)"
   ]
  },
  {
   "cell_type": "markdown",
   "metadata": {},
   "source": [
    "### Encoding\n",
    "\n",
    "When the text includes special characters like German Umlauts, then it's sometimes necessary to specifiy the encoding of the text (commonly utf-8)."
   ]
  },
  {
   "cell_type": "code",
   "execution_count": 3,
   "metadata": {},
   "outputs": [
    {
     "name": "stdout",
     "output_type": "stream",
     "text": [
      "Schleifen durch das Feld,\n",
      "Zählend kreisen, bis's vollbracht,\n",
      "Fortschritt Schritt für Schritt.\n"
     ]
    }
   ],
   "source": [
    "# Reading without encoding\n",
    "with open('data/for_loop_haiku_german.txt', 'r', encoding='utf8') as f:\n",
    "    txt = f.read()\n",
    "\n",
    "print(txt)"
   ]
  }
 ],
 "metadata": {
  "kernelspec": {
   "display_name": "pyart",
   "language": "python",
   "name": "python3"
  },
  "language_info": {
   "codemirror_mode": {
    "name": "ipython",
    "version": 3
   },
   "file_extension": ".py",
   "mimetype": "text/x-python",
   "name": "python",
   "nbconvert_exporter": "python",
   "pygments_lexer": "ipython3",
   "version": "3.12.9"
  }
 },
 "nbformat": 4,
 "nbformat_minor": 2
}
