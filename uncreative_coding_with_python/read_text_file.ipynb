{
 "cells": [
  {
   "cell_type": "markdown",
   "metadata": {},
   "source": [
    "# Read a text file, iterate over a list\n",
    "\n",
    "In this chapter, we'll use written words as page numbers.\n",
    "\n",
    "First we'll get a [list of written words](https://word-lists.com/word-lists/numbers-1-to-1000-written-as-words/) and store them in the file `wordlist.txt` inside the folder `data`."
   ]
  },
  {
   "cell_type": "code",
   "execution_count": null,
   "metadata": {},
   "outputs": [],
   "source": [
    "from fpdf import FPDF\n",
    "\n",
    "pdf = FPDF(format=(115, 180))\n",
    "pdf.set_font('Helvetica')\n",
    "\n",
    "# Read the content of a textfile into the variable wordlist\n",
    "with open('data/wordlist.txt', 'r') as f:\n",
    "    wordlist = f.readlines()\n",
    "\n",
    "# Iterate over all items of the list called wordlist\n",
    "for word in wordlist:\n",
    "\n",
    "    pdf.add_page()\n",
    "    pdf.set_y(-24)\n",
    "    pdf.set_font_size(10)\n",
    "\n",
    "    # for each iteration, the next item of the list is \n",
    "    # stored in the variable called word\n",
    "    pdf.cell(w=0, text=word, align='R')\n",
    "    \n",
    "pdf.output(\"hello_world.pdf\")"
   ]
  },
  {
   "cell_type": "markdown",
   "metadata": {},
   "source": [
    "![wordlist.gif](img/fpdf_007.gif)"
   ]
  }
 ],
 "metadata": {
  "language_info": {
   "name": "python"
  }
 },
 "nbformat": 4,
 "nbformat_minor": 2
}
