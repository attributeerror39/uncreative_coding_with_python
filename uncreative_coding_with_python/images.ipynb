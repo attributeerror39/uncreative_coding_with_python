{
 "cells": [
  {
   "cell_type": "markdown",
   "id": "68eda55c",
   "metadata": {},
   "source": [
    "# Images\n",
    "\n",
    "## Introduction to Digital Images\n",
    "\n",
    "Digital images are stored as a grid (matrix) of colored dots called **pixels**. Each pixel typically has three primary color values:\n",
    "\n",
    "- **Red**\n",
    "- **Green**\n",
    "- **Blue**\n",
    "\n",
    "Hence, in code, an RGB image can be considered a 3D array (list) with dimensions corresponding to `(height, width, channels)`. For instance, a 640×480 image has 640 pixels in width (horizontal) and 480 in height (vertical), each pixel containing an `(R, G, B)` triplet.\n",
    "\n",
    "Sometimes, there's an **Alpha** channel (RGBA) representing transparency. We’ll focus on standard RGB for simplicity.\n",
    "\n",
    "In Python, the **Pillow** library (PIL) is a common tool for reading and writing these images, while libraries like [**diffusers**](https://github.com/huggingface/diffusers) offer utility functions (like `load_image`) for convenience.\n",
    "\n",
    "We’ll explore both **Pillow**, **numpy** and **diffusers** for:\n",
    "\n",
    "1. Loading images\n",
    "2. Manipulating images\n",
    "3. Creating simple animations (MP4s)\n",
    "\n",
    "Let’s start by installing and importing the necessary libraries.\n",
    "\n",
    "We will install all necessary libraries in one step using **pip** like discussed in previous chapters:\n",
    "\n",
    "`pip install pillow numpy diffusers tqdm`"
   ]
  },
  {
   "cell_type": "markdown",
   "id": "afc2a84c",
   "metadata": {},
   "source": [
    "## Loading Images\n",
    "\n",
    "There are multiple ways in different libraries to load images stored locally on our device. The most common way is to load it using Pillow (a fort of PIL). See [readthedocs.io](https://pillow.readthedocs.io/en/stable/handbook/tutorial.html) and [automate the boring stuff](https://automatetheboringstuff.com/chapter17/) for more."
   ]
  },
  {
   "cell_type": "code",
   "execution_count": 3,
   "id": "44079481",
   "metadata": {},
   "outputs": [],
   "source": [
    "from PIL import Image # Import the Image class\n",
    "\n",
    "img = Image.open(\"sample.jpg\")"
   ]
  },
  {
   "cell_type": "markdown",
   "id": "6c079cbe",
   "metadata": {},
   "source": [
    "We can inspect the loaded image like so:"
   ]
  },
  {
   "cell_type": "code",
   "execution_count": 4,
   "id": "0fc24b5b",
   "metadata": {},
   "outputs": [
    {
     "name": "stdout",
     "output_type": "stream",
     "text": [
      "size: (512, 512)\n",
      "mode: RGB\n",
      "format: JPEG\n"
     ]
    }
   ],
   "source": [
    "print('size:', img.size)\n",
    "print('mode:', img.mode)\n",
    "print('format:', img.format)"
   ]
  },
  {
   "cell_type": "markdown",
   "id": "e01724bf",
   "metadata": {},
   "source": [
    "To display an image, we can use the show method, which will open the image in the default image-viewer:"
   ]
  },
  {
   "cell_type": "code",
   "execution_count": 5,
   "id": "de2af579",
   "metadata": {},
   "outputs": [],
   "source": [
    "img.show()"
   ]
  },
  {
   "cell_type": "markdown",
   "id": "6d979907",
   "metadata": {},
   "source": [
    "### Loading from the Web\n",
    "\n",
    "`Image.open` will only work with local files and return a `PIL`. The `diffusers` library provides a helper function to load images from the web (via ursl) or from disk (using paths)."
   ]
  },
  {
   "cell_type": "code",
   "execution_count": null,
   "id": "d44712b8",
   "metadata": {},
   "outputs": [],
   "source": [
    "from diffusers.utils import load_image\n",
    "\n",
    "img = load_image(\"https://thispersondoesnotexist.com/\")"
   ]
  },
  {
   "cell_type": "markdown",
   "id": "8a8990bd",
   "metadata": {},
   "source": [
    "The resulting image will be in the `PIL` format aswell."
   ]
  },
  {
   "cell_type": "markdown",
   "id": "dc24080c",
   "metadata": {},
   "source": [
    "### Saving images\n",
    "\n",
    "Images loaded in the `PIL` format can be saved locally with a call to `save` which takes a path as the parameter. If no format is provided it will be chosen according to the file-extension in the path."
   ]
  },
  {
   "cell_type": "code",
   "execution_count": 6,
   "id": "a16f0dde",
   "metadata": {},
   "outputs": [],
   "source": [
    "from diffusers.utils import load_image\n",
    "\n",
    "img = load_image(\"https://thispersondoesnotexist.com/\")\n",
    "\n",
    "img.save(\"face1.png\", format=\"PNG\") # Explicit PNG\n",
    "\n",
    "img.save(\"face2.png\") # Implicit PNG\n"
   ]
  },
  {
   "cell_type": "markdown",
   "id": "9f307cc8",
   "metadata": {},
   "source": [
    "## Manipulating Images\n",
    "\n",
    "Pillow provides many methods for image manipulation. Here are some common ones:\n",
    "\n",
    "1. **Rotate**: `image.rotate(angle, expand=True)`.\n",
    "2. **Resize (Scale)**: `image.resize((new_width, new_height))`.\n",
    "3. **Blur**: using `ImageFilter.BLUR` or other filters from `ImageFilter`.\n",
    "4. **Enhance Contrast**: using `ImageEnhance.Contrast(image)`.\n",
    "5. **Composite**: combine multiple images using `Image.composite`.\n",
    "\n",
    "We'll demonstrate these on an example image."
   ]
  },
  {
   "cell_type": "code",
   "execution_count": 8,
   "id": "0e87d64c",
   "metadata": {},
   "outputs": [],
   "source": [
    "from diffusers.utils import load_image\n",
    "\n",
    "img = load_image(\"https://thispersondoesnotexist.com/\")\n",
    "\n",
    "# 1. Rotate\n",
    "rotated_image = img.rotate(45, expand=True)\n",
    "rotated_image.save(\"img/rotated.png\")"
   ]
  },
  {
   "cell_type": "markdown",
   "id": "e8de091d",
   "metadata": {},
   "source": [
    "![rotated](img/rotated.png)"
   ]
  },
  {
   "cell_type": "code",
   "execution_count": 14,
   "id": "1e0c8a0d",
   "metadata": {},
   "outputs": [],
   "source": [
    "# 2. Scale\n",
    "width, height = img.size\n",
    "half_sized_image = img.resize((width // 2, height // 2))\n",
    "half_sized_image = img.save(\"scaled.png\")"
   ]
  },
  {
   "cell_type": "markdown",
   "id": "c7cf9470",
   "metadata": {},
   "source": [
    "![rotated](img/scaled.png)"
   ]
  }
 ],
 "metadata": {
  "kernelspec": {
   "display_name": "jupyter-gpu",
   "language": "python",
   "name": "python3"
  },
  "language_info": {
   "codemirror_mode": {
    "name": "ipython",
    "version": 3
   },
   "file_extension": ".py",
   "mimetype": "text/x-python",
   "name": "python",
   "nbconvert_exporter": "python",
   "pygments_lexer": "ipython3",
   "version": "3.10.16"
  }
 },
 "nbformat": 4,
 "nbformat_minor": 5
}
