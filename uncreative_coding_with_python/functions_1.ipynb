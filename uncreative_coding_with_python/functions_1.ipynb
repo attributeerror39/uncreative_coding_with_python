{
 "cells": [
  {
   "cell_type": "markdown",
   "metadata": {},
   "source": [
    "# Functions I\n",
    "\n",
    "We'll continue with the code from the `Enumerate` chapter. Splitting the sentences with `split('.')` was not perfect, so we'll ask a LLM (Mistral) for an optimization:\n",
    "\n",
    "> Use python to split a string into sentences. Split at the dot. Include the dot into the new sentences. Remove empty strings.\n",
    "\n",
    "**mistralai/Mistral-Small-24B-Instruct-2501**\n",
    "\n",
    "To split a string into sentences in Python, including the dot in each sentence, you can use the split method along with a regular expression to ensure that the dot is included in each resulting sentence. Here's how you can do it: "
   ]
  },
  {
   "cell_type": "code",
   "execution_count": null,
   "metadata": {},
   "outputs": [
    {
     "name": "stdout",
     "output_type": "stream",
     "text": [
      "This is the first sentence.\n",
      "Here comes the second sentence.\n",
      "And here is the third one.\n"
     ]
    },
    {
     "data": {
      "text/plain": [
       "['This is the first sentence.',\n",
       " 'Here comes the second sentence.',\n",
       " 'And here is the third one.']"
      ]
     },
     "execution_count": 15,
     "metadata": {},
     "output_type": "execute_result"
    }
   ],
   "source": [
    "import re\n",
    "\n",
    "def split_into_sentences(text):\n",
    "    # Use regular expression to split by dot followed by a space or end of string\n",
    "    sentences = re.split(r'(?<=\\.)\\s*', text)\n",
    "    \n",
    "    # Remove empty strings from the list of sentences\n",
    "    sentences = [sentence for sentence in sentences if sentence]\n",
    "\n",
    "    return sentences\n",
    "\n",
    "# Example usage\n",
    "text = \"This is the first sentence. Here comes the second sentence. And here is the third one.\"\n",
    "sentences = split_into_sentences(text)\n",
    "for sentence in sentences:\n",
    "    print(sentence)"
   ]
  },
  {
   "cell_type": "markdown",
   "metadata": {},
   "source": [
    "In this code: \n",
    "\n",
    "- The re.split function is used to split the text.\n",
    "- The regular expression (?<=\\.)\\s* ensures that the split occurs at a dot followed by any amount of whitespace (including zero whitespaces).\n",
    "- The split_into_sentences function returns a list of sentences, each including the dot.\n",
    "     \n",
    "\n",
    "This approach will handle cases where sentences are followed by spaces or no spaces after the dot. "
   ]
  },
  {
   "cell_type": "markdown",
   "metadata": {},
   "source": [
    "## Functions\n",
    "\n",
    "The generated code includes a `function`, introduced with the `def` keyword. A function is a block of code with a name (like a variable). A function is callable and will be executed only when it is called. Like a variable, a function needs to be defined before it can be called. (We'll deal with functions in more detail later.)"
   ]
  },
  {
   "cell_type": "code",
   "execution_count": 3,
   "metadata": {},
   "outputs": [
    {
     "name": "stdout",
     "output_type": "stream",
     "text": [
      "hello\n",
      "world\n",
      "\n",
      "\n",
      "Iterate\n",
      "and\n",
      "count,\n",
      "Loop\n",
      "through\n",
      "tasks\n",
      "with\n",
      "steady\n",
      "play,\n",
      "End\n",
      "when\n",
      "done\n",
      "repeating.\n",
      "\n",
      "\n"
     ]
    }
   ],
   "source": [
    "def print_words(text):\n",
    "    # split text into words \n",
    "    words = text.split(' ')\n",
    "    for word in words:\n",
    "        print(word)\n",
    "    # print a newline character after the loop\n",
    "    print('\\n')\n",
    "\n",
    "# now we can call the function \n",
    "print_words(\"hello world\")\n",
    "# we can call it multiple times\n",
    "s = \"Iterate and count, Loop through tasks with steady play, End when done repeating.\"\n",
    "print_words(s)"
   ]
  },
  {
   "cell_type": "markdown",
   "metadata": {},
   "source": [
    "The function requires some data as input, otherwise it will raise an error:"
   ]
  },
  {
   "cell_type": "code",
   "execution_count": 4,
   "metadata": {},
   "outputs": [
    {
     "ename": "TypeError",
     "evalue": "print_words() missing 1 required positional argument: 'text'",
     "output_type": "error",
     "traceback": [
      "\u001b[31m---------------------------------------------------------------------------\u001b[39m",
      "\u001b[31mTypeError\u001b[39m                                 Traceback (most recent call last)",
      "\u001b[36mCell\u001b[39m\u001b[36m \u001b[39m\u001b[32mIn[4]\u001b[39m\u001b[32m, line 1\u001b[39m\n\u001b[32m----> \u001b[39m\u001b[32m1\u001b[39m \u001b[43mprint_words\u001b[49m\u001b[43m(\u001b[49m\u001b[43m)\u001b[49m\n",
      "\u001b[31mTypeError\u001b[39m: print_words() missing 1 required positional argument: 'text'"
     ]
    }
   ],
   "source": [
    "print_words()"
   ]
  },
  {
   "cell_type": "markdown",
   "metadata": {},
   "source": [
    "## Improved code with the function"
   ]
  },
  {
   "cell_type": "code",
   "execution_count": 16,
   "metadata": {},
   "outputs": [],
   "source": [
    "from fpdf import FPDF \n",
    "import re\n",
    "\n",
    "def split_into_sentences(text):\n",
    "    # Use regular expression to split by dot followed by a space or end of string\n",
    "    sentences = re.split(r'(?<=\\.)\\s*', text)\n",
    "    \n",
    "    # Remove empty strings from the list of sentences\n",
    "    sentences = [sentence for sentence in sentences if sentence]\n",
    "\n",
    "    return sentences\n",
    "\n",
    "\n",
    "pdf = FPDF(format=(115, 180))\n",
    "pdf.set_font('Helvetica')\n",
    "\n",
    "# Store a longer text in the variable 'text'. \n",
    "text = \"Hello, world, with your shades of green and blue, You're here to stay, the morning dew. The vast expanse, the creatures, trees, Each tiny grain of sand at the sea's breeze. A symphony of life, a dance so free, Hello, world, in you we breathe.\"\n",
    "# Split text into sentences\n",
    "sentences = split_into_sentences(text)\n",
    "\n",
    "for index, sentence in enumerate(sentences):\n",
    "\n",
    "    pdf.add_page()\n",
    "    pdf.set_font_size(36)\n",
    "    pdf.multi_cell(w=0, text=sentence, align='L')\n",
    "    pdf.set_y(-24)\n",
    "    pdf.set_font_size(10)\n",
    "    pdf.cell(w=0, text=str(index+1), align='R')\n",
    "    \n",
    "pdf.output(\"hello_world.pdf\")"
   ]
  },
  {
   "cell_type": "markdown",
   "metadata": {},
   "source": [
    "> ![enumerate gif](img/fpdf_enumerate_2.gif)"
   ]
  }
 ],
 "metadata": {
  "kernelspec": {
   "display_name": "up",
   "language": "python",
   "name": "python3"
  },
  "language_info": {
   "codemirror_mode": {
    "name": "ipython",
    "version": 3
   },
   "file_extension": ".py",
   "mimetype": "text/x-python",
   "name": "python",
   "nbconvert_exporter": "python",
   "pygments_lexer": "ipython3",
   "version": "3.12.9"
  }
 },
 "nbformat": 4,
 "nbformat_minor": 2
}
