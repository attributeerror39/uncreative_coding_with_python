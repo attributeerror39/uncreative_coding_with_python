{
 "cells": [
  {
   "cell_type": "markdown",
   "id": "8b1e8674",
   "metadata": {},
   "source": [
    "# Images in a PDF\n",
    "\n",
    "[fpdf2 image documentation](https://py-pdf.github.io/fpdf2/Images.html)"
   ]
  },
  {
   "cell_type": "code",
   "execution_count": 6,
   "id": "7658de20",
   "metadata": {},
   "outputs": [],
   "source": [
    "from fpdf import FPDF\n",
    "from diffusers.utils import load_image\n",
    "\n",
    "# VARIABLES\n",
    "pdf_width = 148\n",
    "pdf_height = 210\n",
    "pdf_border = 20\n",
    "img_width = pdf_width - (2*pdf_border)\n",
    "img_height = pdf_height - (2*pdf_border)\n",
    "\n",
    "\n",
    "# PDF SETUP\n",
    "pdf = FPDF('P', 'mm', format=(pdf_width, pdf_height))\n",
    "pdf.set_margins(left=pdf_border, top=pdf_border, right=pdf_border)\n",
    "\n",
    "# Adding page and image(s)\n",
    "\n",
    "img = load_image(\"https://thispersondoesnotexist.com/\")\n",
    "\n",
    "# without scaling\n",
    "pdf.add_page()\n",
    "pdf.image(img, x=0, y=0, keep_aspect_ratio=True)\n",
    "\n",
    "# with defined position, width and height\n",
    "pdf.add_page()\n",
    "pdf.image(img, x=20, y=20, w=img_width, h=img_height)\n",
    "\n",
    "# keeping the aspect ratio\n",
    "pdf.add_page()\n",
    "pdf.image(img, x=20, y=20, w=img_width, h=img_height, keep_aspect_ratio=True)\n",
    "\n",
    "pdf.output('pdfs/image.pdf')"
   ]
  },
  {
   "cell_type": "markdown",
   "id": "6875a067",
   "metadata": {},
   "source": [
    "> ![image pdf](img/images_pdf.gif)"
   ]
  }
 ],
 "metadata": {
  "kernelspec": {
   "display_name": "up",
   "language": "python",
   "name": "python3"
  },
  "language_info": {
   "codemirror_mode": {
    "name": "ipython",
    "version": 3
   },
   "file_extension": ".py",
   "mimetype": "text/x-python",
   "name": "python",
   "nbconvert_exporter": "python",
   "pygments_lexer": "ipython3",
   "version": "3.12.9"
  }
 },
 "nbformat": 4,
 "nbformat_minor": 5
}
