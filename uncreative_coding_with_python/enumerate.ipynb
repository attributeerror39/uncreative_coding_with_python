{
 "cells": [
  {
   "cell_type": "markdown",
   "metadata": {},
   "source": [
    "# Enumerate"
   ]
  },
  {
   "cell_type": "code",
   "execution_count": 2,
   "metadata": {},
   "outputs": [
    {
     "name": "stdout",
     "output_type": "stream",
     "text": [
      "<class 'str'>\n",
      "<class 'str'>\n",
      "[\"Hello, world, with your shades of green and blue, You're here to stay, the morning dew\", \" The vast expanse, the creatures, trees, Each tiny grain of sand at the sea's breeze\", ' A symphony of life, a dance so free, Hello, world, in you we breathe', '']\n"
     ]
    }
   ],
   "source": [
    "from fpdf import FPDF\n",
    "\n",
    "pdf = FPDF(format=(115, 180))\n",
    "pdf.set_font('Helvetica')\n",
    "\n",
    "# Store a longer text in the variable 'text'. \n",
    "text = \"Hello, world, with your shades of green and blue, You're here to stay, the morning dew. The vast expanse, the creatures, trees, Each tiny grain of sand at the sea's breeze. A symphony of life, a dance so free, Hello, world, in you we breathe.\"\n",
    "\n",
    "# Print the data type \n",
    "print(type(text))\n",
    "\n",
    "# Split the text into a list of sentences. \n",
    "sentences = text.split('.')\n",
    "\n",
    "# Print the data type \n",
    "print(type(text))\n",
    "\n",
    "# Print the sentences\n",
    "print(sentences)\n",
    "\n",
    "for index, sentence in enumerate(sentences):\n",
    "\n",
    "    pdf.add_page()\n",
    "    pdf.set_font_size(36)\n",
    "    pdf.multi_cell(w=0, text=sentence, align='L')\n",
    "    pdf.set_y(-24)\n",
    "    pdf.set_font_size(10)\n",
    "    pdf.cell(w=0, text=str(index+1), align='R')\n",
    "    \n",
    "pdf.output(\"hello_world.pdf\")"
   ]
  },
  {
   "cell_type": "markdown",
   "metadata": {},
   "source": [
    "## Optimize the sentence splitting (with Mistral)\n",
    "\n",
    "> Use python to split a string into sentences. Split at the dot. Include the dot into the new sentences.\n",
    "\n",
    "**mistralai/Mistral-Small-24B-Instruct-2501**\n",
    "\n",
    "To split a string into sentences in Python, including the dot in each sentence, you can use the split method along with a regular expression to ensure that the dot is included in each resulting sentence. Here's how you can do it: "
   ]
  },
  {
   "cell_type": "code",
   "execution_count": 3,
   "metadata": {},
   "outputs": [
    {
     "name": "stdout",
     "output_type": "stream",
     "text": [
      "This is the first sentence.\n",
      "Here comes the second sentence.\n",
      "And here is the third one.\n",
      "\n"
     ]
    }
   ],
   "source": [
    "import re\n",
    "\n",
    "def split_into_sentences(text):\n",
    "    # Use regular expression to split by dot followed by a space or end of string\n",
    "    sentence_split = re.split(r'(?<=\\.)\\s*', text)\n",
    "    return sentence_split\n",
    "\n",
    "# Example usage\n",
    "text = \"This is the first sentence. Here comes the second sentence. And here is the third one.\"\n",
    "sentences = split_into_sentences(text)\n",
    "for sentence in sentences:\n",
    "    print(sentence)"
   ]
  },
  {
   "cell_type": "markdown",
   "metadata": {},
   "source": [
    "In this code: \n",
    "\n",
    "- The re.split function is used to split the text.\n",
    "- The regular expression (?<=\\.)\\s* ensures that the split occurs at a dot followed by any amount of whitespace (including zero whitespaces).\n",
    "- The split_into_sentences function returns a list of sentences, each including the dot.\n",
    "     \n",
    "\n",
    "This approach will handle cases where sentences are followed by spaces or no spaces after the dot. "
   ]
  }
 ],
 "metadata": {
  "kernelspec": {
   "display_name": "pyart",
   "language": "python",
   "name": "python3"
  },
  "language_info": {
   "codemirror_mode": {
    "name": "ipython",
    "version": 3
   },
   "file_extension": ".py",
   "mimetype": "text/x-python",
   "name": "python",
   "nbconvert_exporter": "python",
   "pygments_lexer": "ipython3",
   "version": "3.12.9"
  }
 },
 "nbformat": 4,
 "nbformat_minor": 2
}
