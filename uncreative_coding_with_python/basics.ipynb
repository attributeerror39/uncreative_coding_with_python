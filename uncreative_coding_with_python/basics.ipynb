{
 "cells": [
  {
   "cell_type": "markdown",
   "metadata": {},
   "source": [
    "# Basics of Programming with Python\n",
    "\n",
    "of\n",
    "\n",
    "- Syntax\n",
    "- Order of execution\n",
    "- Variables\n",
    "- Data types"
   ]
  },
  {
   "cell_type": "markdown",
   "metadata": {},
   "source": [
    "## Syntax\n",
    "\n",
    "In Python, every line is a new statement. It's not possible to have multiple statements in one line."
   ]
  },
  {
   "cell_type": "code",
   "execution_count": 9,
   "metadata": {},
   "outputs": [
    {
     "name": "stdout",
     "output_type": "stream",
     "text": [
      "(Un)Creative \n",
      "Coding \n",
      "with Python\n"
     ]
    }
   ],
   "source": [
    "print('(Un)Creative ')\n",
    "print('Coding ')\n",
    "print('with Python')"
   ]
  },
  {
   "cell_type": "code",
   "execution_count": 8,
   "metadata": {},
   "outputs": [
    {
     "ename": "SyntaxError",
     "evalue": "invalid syntax (1716913507.py, line 1)",
     "output_type": "error",
     "traceback": [
      "  \u001b[36mCell\u001b[39m\u001b[36m \u001b[39m\u001b[32mIn[8]\u001b[39m\u001b[32m, line 1\u001b[39m\n\u001b[31m    \u001b[39m\u001b[31mprint('(Un)Creative ') print('Coding ') print('with Python')\u001b[39m\n                           ^\n\u001b[31mSyntaxError\u001b[39m\u001b[31m:\u001b[39m invalid syntax\n"
     ]
    }
   ],
   "source": [
    "print('(Un)Creative ') print('Coding ') print('with Python')"
   ]
  },
  {
   "cell_type": "markdown",
   "metadata": {},
   "source": [
    "When writing code, we'll often receive an `SyntaxError`, meaning that the code is not executable. \n",
    "\n",
    "The `^` indicates the position of the error."
   ]
  },
  {
   "cell_type": "markdown",
   "metadata": {},
   "source": [
    "## Order of execution\n",
    "\n",
    "The code is executed from top to bottom. Later we'll see that it's possible (and common) to write code that's less linear."
   ]
  },
  {
   "cell_type": "markdown",
   "metadata": {},
   "source": [
    "## Variables \n",
    "\n",
    "A very powerful concept in programming is the `variable`. We can store data in variables and use it multiple times through the program, but also change it during the process of execution.\n",
    "\n",
    "Variables are created through a name of your choice followed by `=` followed by the data you want to store in it. Allowed characters for variable names: characters, numbers, ‘_’ (underscore). It’s not allowed to start a name with a number. In Python it’s convention to write regular variables in lowercase characters and separate them with _."
   ]
  },
  {
   "cell_type": "code",
   "execution_count": null,
   "metadata": {},
   "outputs": [
    {
     "name": "stdout",
     "output_type": "stream",
     "text": [
      "(Un)Creative Coding with Python\n",
      "Coding with Python\n",
      "(Un)Creative\n"
     ]
    }
   ],
   "source": [
    "s1 = '(Un)Creative' \n",
    "s2 = 'Coding' \n",
    "s3 = 'with Python'\n",
    "\n",
    "print(s1, s2, s3)\n",
    "print(s2, s3)\n",
    "print(s1)"
   ]
  },
  {
   "cell_type": "markdown",
   "metadata": {},
   "source": [
    "The data inside variables is not fixed. We can override or modify it."
   ]
  },
  {
   "cell_type": "code",
   "execution_count": 6,
   "metadata": {},
   "outputs": [
    {
     "name": "stdout",
     "output_type": "stream",
     "text": [
      "7\n",
      "14\n",
      "28\n",
      "14.0\n",
      "18.0\n"
     ]
    }
   ],
   "source": [
    "a = 7\n",
    "print(a)\n",
    "a = a * 2\n",
    "print(a)\n",
    "a *= 2\n",
    "print(a)\n",
    "a /= 2 \n",
    "print(a)\n",
    "b = 4\n",
    "a += b \n",
    "print(a)"
   ]
  },
  {
   "cell_type": "markdown",
   "metadata": {},
   "source": [
    "## Data types\n",
    "\n",
    "We've got in touch with 3 different `types` of data already:\n",
    "\n",
    "- String (text)\n",
    "- Integer (whole numbers)\n",
    "- Float (floating point numbers)\n",
    "\n",
    "We can check the type of data with the function `type()`."
   ]
  },
  {
   "cell_type": "code",
   "execution_count": 1,
   "metadata": {},
   "outputs": [
    {
     "name": "stdout",
     "output_type": "stream",
     "text": [
      "<class 'str'>\n",
      "<class 'int'>\n",
      "<class 'float'>\n"
     ]
    }
   ],
   "source": [
    "# String\n",
    "s = 'Some text.'\n",
    "print(type(s))\n",
    "\n",
    "# Integer\n",
    "n1 = 58626\n",
    "print(type(n1))\n",
    "\n",
    "# Float\n",
    "n2 = -25.66\n",
    "print(type(n2))"
   ]
  },
  {
   "cell_type": "markdown",
   "metadata": {},
   "source": [
    "Variables do not need to be created with a specific data type (as in some other programming languages). It's also possible to change the type (it's done automatically) according to the data we put into it."
   ]
  },
  {
   "cell_type": "code",
   "execution_count": 2,
   "metadata": {},
   "outputs": [],
   "source": [
    "a = 'Some text' \n",
    "a = 4\n",
    "a = 0.2"
   ]
  },
  {
   "cell_type": "markdown",
   "metadata": {},
   "source": [
    "### Converting data types (casting)\n",
    "\n",
    "It's easy to convert data into a specific type with built-in methods. This is called **casting**."
   ]
  },
  {
   "cell_type": "code",
   "execution_count": null,
   "metadata": {},
   "outputs": [
    {
     "data": {
      "text/plain": [
       "'4.2'"
      ]
     },
     "metadata": {},
     "output_type": "display_data"
    }
   ],
   "source": [
    "str(4.2)"
   ]
  },
  {
   "cell_type": "code",
   "execution_count": null,
   "metadata": {},
   "outputs": [
    {
     "data": {
      "text/plain": [
       "'5'"
      ]
     },
     "metadata": {},
     "output_type": "display_data"
    }
   ],
   "source": [
    "str(5)"
   ]
  },
  {
   "cell_type": "code",
   "execution_count": null,
   "metadata": {},
   "outputs": [
    {
     "data": {
      "text/plain": [
       "7"
      ]
     },
     "metadata": {},
     "output_type": "display_data"
    }
   ],
   "source": [
    "int('7')"
   ]
  },
  {
   "cell_type": "code",
   "execution_count": null,
   "metadata": {},
   "outputs": [
    {
     "data": {
      "text/plain": [
       "7"
      ]
     },
     "metadata": {},
     "output_type": "display_data"
    }
   ],
   "source": [
    "int(7.4)"
   ]
  },
  {
   "cell_type": "code",
   "execution_count": null,
   "metadata": {},
   "outputs": [
    {
     "data": {
      "text/plain": [
       "7.0"
      ]
     },
     "metadata": {},
     "output_type": "display_data"
    }
   ],
   "source": [
    "float('7')"
   ]
  },
  {
   "cell_type": "code",
   "execution_count": null,
   "metadata": {},
   "outputs": [
    {
     "data": {
      "text/plain": [
       "4.0"
      ]
     },
     "metadata": {},
     "output_type": "display_data"
    }
   ],
   "source": [
    "float(4)"
   ]
  }
 ],
 "metadata": {
  "kernelspec": {
   "display_name": "pyart",
   "language": "python",
   "name": "python3"
  },
  "language_info": {
   "codemirror_mode": {
    "name": "ipython",
    "version": 3
   },
   "file_extension": ".py",
   "mimetype": "text/x-python",
   "name": "python",
   "nbconvert_exporter": "python",
   "pygments_lexer": "ipython3",
   "version": "3.12.9"
  }
 },
 "nbformat": 4,
 "nbformat_minor": 2
}
