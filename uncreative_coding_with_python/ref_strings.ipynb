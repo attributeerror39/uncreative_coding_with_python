{
 "cells": [
  {
   "cell_type": "markdown",
   "metadata": {},
   "source": [
    "# References: Strings\n",
    "\n",
    "The data type for text is called string. A string is declared through quotation marks. There are some options:"
   ]
  },
  {
   "cell_type": "code",
   "execution_count": null,
   "metadata": {},
   "outputs": [
    {
     "name": "stdout",
     "output_type": "stream",
     "text": [
      "text in single quotation marks\n"
     ]
    }
   ],
   "source": [
    "print('text in single quotation marks')"
   ]
  },
  {
   "cell_type": "code",
   "execution_count": null,
   "metadata": {},
   "outputs": [
    {
     "name": "stdout",
     "output_type": "stream",
     "text": [
      "text in double quotation marks\n"
     ]
    }
   ],
   "source": [
    "print(\"text in double quotation marks\")"
   ]
  },
  {
   "cell_type": "code",
   "execution_count": null,
   "metadata": {},
   "outputs": [
    {
     "name": "stdout",
     "output_type": "stream",
     "text": [
      "text in tripple quotation marks\n"
     ]
    }
   ],
   "source": [
    "print('''text in tripple quotation marks''')"
   ]
  },
  {
   "cell_type": "code",
   "execution_count": null,
   "metadata": {},
   "outputs": [
    {
     "name": "stdout",
     "output_type": "stream",
     "text": [
      "text in triple (double) quotation marks\n"
     ]
    }
   ],
   "source": [
    "print(\"\"\"text in triple (double) quotation marks\"\"\")"
   ]
  },
  {
   "cell_type": "code",
   "execution_count": null,
   "metadata": {},
   "outputs": [
    {
     "name": "stdout",
     "output_type": "stream",
     "text": [
      "\"A quote\" (Author)\n"
     ]
    }
   ],
   "source": [
    "# Single and double quotation marks can be used to print one of them:\n",
    "print('\"A quote\" (Author)')"
   ]
  },
  {
   "cell_type": "code",
   "execution_count": null,
   "metadata": {},
   "outputs": [
    {
     "name": "stdout",
     "output_type": "stream",
     "text": [
      "Line 1\n",
      "Line 2\n",
      "Line 3\n"
     ]
    }
   ],
   "source": [
    "# Tripple quotation marks can be used to keep/ insert line breaks:\n",
    "print('''Line 1\n",
    "Line 2\n",
    "Line 3''')"
   ]
  }
 ],
 "metadata": {
  "language_info": {
   "name": "python"
  }
 },
 "nbformat": 4,
 "nbformat_minor": 2
}
