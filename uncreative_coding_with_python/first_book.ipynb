{
 "cells": [
  {
   "cell_type": "markdown",
   "metadata": {},
   "source": [
    "# First book \n",
    "\n",
    "We'll start using Python to program books. For that we'll work with the library [fpdf2](https://pypi.org/project/fpdf2/)\n",
    "\n",
    "We'll create our first pdf with the example code from the website:"
   ]
  },
  {
   "cell_type": "code",
   "execution_count": null,
   "metadata": {},
   "outputs": [],
   "source": [
    "from fpdf import FPDF\n",
    "\n",
    "pdf = FPDF()\n",
    "pdf.add_page()\n",
    "pdf.set_font('helvetica', size=12)\n",
    "pdf.cell(text=\"hello world\")\n",
    "pdf.output(\"hello_world.pdf\")"
   ]
  },
  {
   "cell_type": "markdown",
   "metadata": {},
   "source": [
    "> ![001.png](img/fpdf_001.png)"
   ]
  },
  {
   "cell_type": "markdown",
   "metadata": {},
   "source": [
    "Next we'll change the page size and font size."
   ]
  },
  {
   "cell_type": "code",
   "execution_count": null,
   "metadata": {},
   "outputs": [],
   "source": [
    "# Import the FPDF class from the fpdf library\n",
    "from fpdf import FPDF\n",
    "\n",
    "# Create a FPDF object, \n",
    "# store it in the variable called pdf \n",
    "# and define width and height of the document\n",
    "pdf = FPDF(format=(115, 180))  # width and height are inserted as a tuple data type: (w, h)\n",
    "\n",
    "# Add a new page to the FPDF object\n",
    "pdf.add_page()\n",
    "\n",
    "# Set the font and font size\n",
    "pdf.set_font('helvetica', size=48)\n",
    "\n",
    "# Write \"hello world\" into a text cell\n",
    "pdf.cell(text=\"hello world\")\n",
    "\n",
    "# Export the pdf under the name \"hello_world.pdf\" in a folder named \"pdfs\"\n",
    "pdf.output(\"pdfs/hello_world.pdf\")"
   ]
  },
  {
   "cell_type": "markdown",
   "metadata": {},
   "source": [
    "> ![002.png](img/fpdf_002.png)"
   ]
  }
 ],
 "metadata": {
  "language_info": {
   "name": "python"
  }
 },
 "nbformat": 4,
 "nbformat_minor": 2
}
