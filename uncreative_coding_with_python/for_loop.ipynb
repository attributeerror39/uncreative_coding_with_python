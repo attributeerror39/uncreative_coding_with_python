{
 "cells": [
  {
   "cell_type": "markdown",
   "metadata": {},
   "source": [
    "# For-Loop\n",
    "\n",
    "A **for-loop** repeats a **block** of code for a given amount. "
   ]
  },
  {
   "cell_type": "code",
   "execution_count": null,
   "metadata": {},
   "outputs": [],
   "source": [
    "# Code without the loop\n",
    "\n",
    "from fpdf import FPDF\n",
    "\n",
    "pdf = FPDF(format=(115, 180))\n",
    "pdf.add_page()\n",
    "pdf.set_font('helvetica', size=48)\n",
    "pdf.cell(text=\"hello world\")\n",
    "pdf.output(\"hello_world.pdf\")"
   ]
  },
  {
   "cell_type": "code",
   "execution_count": null,
   "metadata": {},
   "outputs": [],
   "source": [
    "# Code with a for loop\n",
    "\n",
    "from fpdf import FPDF\n",
    "\n",
    "pdf = FPDF(format=(115, 180))\n",
    "\n",
    "for i in range(4):\n",
    "    # Everything inside this code block will be\n",
    "    #  repeated 4 times. \n",
    "    pdf.add_page()\n",
    "    pdf.set_font('helvetica', size=48)\n",
    "    pdf.cell(text=\"hello world\")\n",
    "    \n",
    "# This happens after the 4 iterations of the for-loop\n",
    "pdf.output(\"hello_world.pdf\")"
   ]
  },
  {
   "cell_type": "markdown",
   "metadata": {},
   "source": [
    "![003.png](img/fpdf_003.png)"
   ]
  },
  {
   "cell_type": "markdown",
   "metadata": {},
   "source": [
    "The for-loop in combination with `range()` iterates over a range of numbers. For each iteration, the current number is stored in a variable. "
   ]
  },
  {
   "cell_type": "code",
   "execution_count": 1,
   "metadata": {},
   "outputs": [
    {
     "name": "stdout",
     "output_type": "stream",
     "text": [
      "0\n",
      "1\n",
      "2\n"
     ]
    }
   ],
   "source": [
    "for i in range(3):\n",
    "    print(i)"
   ]
  },
  {
   "cell_type": "markdown",
   "metadata": {},
   "source": [
    "Commonly, variables that act like an index are named `i` or `index`, but it's possible to give them other names."
   ]
  },
  {
   "cell_type": "code",
   "execution_count": null,
   "metadata": {},
   "outputs": [
    {
     "name": "stdout",
     "output_type": "stream",
     "text": [
      "2\n",
      "3\n",
      "4\n"
     ]
    }
   ],
   "source": [
    "for a in range(2, 5):\n",
    "    print(a)"
   ]
  },
  {
   "cell_type": "code",
   "execution_count": null,
   "metadata": {},
   "outputs": [],
   "source": []
  }
 ],
 "metadata": {
  "kernelspec": {
   "display_name": "pyart",
   "language": "python",
   "name": "python3"
  },
  "language_info": {
   "codemirror_mode": {
    "name": "ipython",
    "version": 3
   },
   "file_extension": ".py",
   "mimetype": "text/x-python",
   "name": "python",
   "nbconvert_exporter": "python",
   "pygments_lexer": "ipython3",
   "version": "3.12.9"
  }
 },
 "nbformat": 4,
 "nbformat_minor": 2
}
