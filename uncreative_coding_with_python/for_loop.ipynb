{
 "cells": [
  {
   "cell_type": "markdown",
   "metadata": {},
   "source": [
    "# For-Loop\n",
    "\n",
    "... "
   ]
  },
  {
   "cell_type": "code",
   "execution_count": null,
   "metadata": {},
   "outputs": [],
   "source": [
    "# Code without the loop\n",
    "\n",
    "from fpdf import FPDF\n",
    "\n",
    "pdf = FPDF(format=(115, 180))\n",
    "pdf.add_page()\n",
    "pdf.set_font('helvetica', size=48)\n",
    "pdf.cell(text=\"hello world\")\n",
    "pdf.output(\"hello_world.pdf\")"
   ]
  },
  {
   "cell_type": "code",
   "execution_count": null,
   "metadata": {},
   "outputs": [],
   "source": [
    "# Code with a for loop\n",
    "\n",
    "from fpdf import FPDF\n",
    "\n",
    "pdf = FPDF(format=(115, 180))\n",
    "\n",
    "for i in range(4):\n",
    "    # Everything inside this code block will be\n",
    "    #  repeated 4 times. \n",
    "    pdf.add_page()\n",
    "    pdf.set_font('helvetica', size=48)\n",
    "    pdf.cell(text=\"hello world\")\n",
    "    \n",
    "# This happens after the 4 iterations of the for-loop\n",
    "pdf.output(\"hello_world.pdf\")"
   ]
  },
  {
   "cell_type": "markdown",
   "metadata": {},
   "source": [
    "![003.png](img/fpdf_003.png)"
   ]
  }
 ],
 "metadata": {
  "language_info": {
   "name": "python"
  }
 },
 "nbformat": 4,
 "nbformat_minor": 2
}
